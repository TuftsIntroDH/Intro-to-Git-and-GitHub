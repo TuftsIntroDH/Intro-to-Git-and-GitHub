{
 "cells": [
  {
   "cell_type": "code",
   "execution_count": 1,
   "metadata": {},
   "outputs": [
    {
     "name": "stdout",
     "output_type": "stream",
     "text": [
      "charles_pletcher.md\n",
      "{sara_walters}.md\n",
      "nole_wade.md\n",
      "mia_giatrelis.md\n",
      "parker_blum.md\n",
      "Justin_Liu.md\n",
      "Jessica_Thorne.md\n",
      "Chase Beyer.md\n",
      "jacob_schwartz.md\n",
      "Billy_Zeng.md\n",
      "{NikaLea_Tomicic}.md\n",
      "ERYNN_GUTIERREZ.md\n",
      "{BELLA_BOBB}.md\n",
      "linh_nguyen.md\n",
      "rachel_liu.md\n",
      "Connor_Nightingale.md\n",
      "Catie Kean.md\n",
      "README.md\n",
      "lauren_langbort.md\n",
      "Deelia Wang.md\n",
      "claire anderson.md\n",
      "Kalyn_Muhlenberg.md\n"
     ]
    }
   ],
   "source": [
    "from pathlib import Path\n",
    "\n",
    "for file in Path(\".\").glob(\"*.md\"):\n",
    "    print(file)"
   ]
  }
 ],
 "metadata": {
  "kernelspec": {
   "display_name": "Python 3",
   "language": "python",
   "name": "python3"
  },
  "language_info": {
   "codemirror_mode": {
    "name": "ipython",
    "version": 3
   },
   "file_extension": ".py",
   "mimetype": "text/x-python",
   "name": "python",
   "nbconvert_exporter": "python",
   "pygments_lexer": "ipython3",
   "version": "3.12.1"
  }
 },
 "nbformat": 4,
 "nbformat_minor": 2
}
